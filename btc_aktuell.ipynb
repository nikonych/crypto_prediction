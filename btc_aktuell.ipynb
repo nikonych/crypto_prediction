{
 "cells": [
  {
   "cell_type": "code",
   "id": "initial_id",
   "metadata": {
    "collapsed": true,
    "ExecuteTime": {
     "end_time": "2024-05-24T06:48:32.417314Z",
     "start_time": "2024-05-24T06:48:32.412229Z"
    }
   },
   "source": [
    "import pandas as pd\n",
    "import numpy as np\n",
    "import yfinance as yf\n",
    "from keras import Sequential, Input\n",
    "from keras.src.layers import LSTM, Dense\n",
    "from sklearn.preprocessing import MinMaxScaler\n",
    "from sklearn.metrics import mean_squared_error\n",
    "from math import sqrt\n",
    "import matplotlib.pyplot as plt"
   ],
   "outputs": [],
   "execution_count": 107
  },
  {
   "metadata": {
    "ExecuteTime": {
     "end_time": "2024-05-24T06:48:32.712423Z",
     "start_time": "2024-05-24T06:48:32.447667Z"
    }
   },
   "cell_type": "code",
   "source": [
    "# data = yf.download('BTC-USD', '2015-01-01', '2024-05-23', interval='1d')\n",
    "# btcDF = pd.DataFrame(data)\n",
    "btcDF = pd.read_csv('btc.csv', on_bad_lines='skip', engine='python')"
   ],
   "id": "2df24171c551fb59",
   "outputs": [],
   "execution_count": 108
  },
  {
   "metadata": {
    "ExecuteTime": {
     "end_time": "2024-05-24T06:48:32.734783Z",
     "start_time": "2024-05-24T06:48:32.713572Z"
    }
   },
   "cell_type": "code",
   "source": [
    "# Добавление столбцов с датой и временем\n",
    "# btcDF['Date'] = btcDF.index.date\n",
    "# btcDF['Time'] = pd.to_datetime(btcDF.index).time\n",
    "btcDF['Timestamp'] = pd.to_datetime(btcDF['Timestamp'])\n",
    "\n",
    "btcDF.info()"
   ],
   "id": "e08f52cd61eeeed3",
   "outputs": [
    {
     "name": "stdout",
     "output_type": "stream",
     "text": [
      "<class 'pandas.core.frame.DataFrame'>\n",
      "RangeIndex: 57285 entries, 0 to 57284\n",
      "Data columns (total 8 columns):\n",
      " #   Column             Non-Null Count  Dtype         \n",
      "---  ------             --------------  -----         \n",
      " 0   Timestamp          57285 non-null  datetime64[ns]\n",
      " 1   Open               57285 non-null  float64       \n",
      " 2   High               57285 non-null  float64       \n",
      " 3   Low                57285 non-null  float64       \n",
      " 4   Close              57285 non-null  float64       \n",
      " 5   Volume (BTC)       57285 non-null  float64       \n",
      " 6   Volume (Currency)  57285 non-null  float64       \n",
      " 7   Weighted Price     57281 non-null  float64       \n",
      "dtypes: datetime64[ns](1), float64(7)\n",
      "memory usage: 3.5 MB\n"
     ]
    }
   ],
   "execution_count": 109
  },
  {
   "metadata": {
    "ExecuteTime": {
     "end_time": "2024-05-24T06:48:32.742635Z",
     "start_time": "2024-05-24T06:48:32.735682Z"
    }
   },
   "cell_type": "code",
   "source": "btcDF.head()",
   "id": "e920713395168c00",
   "outputs": [
    {
     "data": {
      "text/plain": [
       "            Timestamp     Open     High      Low    Close  Volume (BTC)  \\\n",
       "0 2017-08-17 04:00:00  4261.48  4313.62  4261.32  4308.83     47.181009   \n",
       "1 2017-08-17 05:00:00  4308.83  4328.69  4291.37  4315.32     23.234916   \n",
       "2 2017-08-17 06:00:00  4330.29  4345.45  4309.37  4324.35      7.229691   \n",
       "3 2017-08-17 07:00:00  4316.62  4349.99  4287.41  4349.99      4.443249   \n",
       "4 2017-08-17 08:00:00  4333.32  4377.85  4333.32  4360.69      0.972807   \n",
       "\n",
       "   Volume (Currency)  Weighted Price  \n",
       "0      202366.138393     4289.143931  \n",
       "1      100304.823567     4316.986709  \n",
       "2       31282.312670     4326.922502  \n",
       "3       19241.058300     4330.402888  \n",
       "4        4239.503586     4358.010978  "
      ],
      "text/html": [
       "<div>\n",
       "<style scoped>\n",
       "    .dataframe tbody tr th:only-of-type {\n",
       "        vertical-align: middle;\n",
       "    }\n",
       "\n",
       "    .dataframe tbody tr th {\n",
       "        vertical-align: top;\n",
       "    }\n",
       "\n",
       "    .dataframe thead th {\n",
       "        text-align: right;\n",
       "    }\n",
       "</style>\n",
       "<table border=\"1\" class=\"dataframe\">\n",
       "  <thead>\n",
       "    <tr style=\"text-align: right;\">\n",
       "      <th></th>\n",
       "      <th>Timestamp</th>\n",
       "      <th>Open</th>\n",
       "      <th>High</th>\n",
       "      <th>Low</th>\n",
       "      <th>Close</th>\n",
       "      <th>Volume (BTC)</th>\n",
       "      <th>Volume (Currency)</th>\n",
       "      <th>Weighted Price</th>\n",
       "    </tr>\n",
       "  </thead>\n",
       "  <tbody>\n",
       "    <tr>\n",
       "      <th>0</th>\n",
       "      <td>2017-08-17 04:00:00</td>\n",
       "      <td>4261.48</td>\n",
       "      <td>4313.62</td>\n",
       "      <td>4261.32</td>\n",
       "      <td>4308.83</td>\n",
       "      <td>47.181009</td>\n",
       "      <td>202366.138393</td>\n",
       "      <td>4289.143931</td>\n",
       "    </tr>\n",
       "    <tr>\n",
       "      <th>1</th>\n",
       "      <td>2017-08-17 05:00:00</td>\n",
       "      <td>4308.83</td>\n",
       "      <td>4328.69</td>\n",
       "      <td>4291.37</td>\n",
       "      <td>4315.32</td>\n",
       "      <td>23.234916</td>\n",
       "      <td>100304.823567</td>\n",
       "      <td>4316.986709</td>\n",
       "    </tr>\n",
       "    <tr>\n",
       "      <th>2</th>\n",
       "      <td>2017-08-17 06:00:00</td>\n",
       "      <td>4330.29</td>\n",
       "      <td>4345.45</td>\n",
       "      <td>4309.37</td>\n",
       "      <td>4324.35</td>\n",
       "      <td>7.229691</td>\n",
       "      <td>31282.312670</td>\n",
       "      <td>4326.922502</td>\n",
       "    </tr>\n",
       "    <tr>\n",
       "      <th>3</th>\n",
       "      <td>2017-08-17 07:00:00</td>\n",
       "      <td>4316.62</td>\n",
       "      <td>4349.99</td>\n",
       "      <td>4287.41</td>\n",
       "      <td>4349.99</td>\n",
       "      <td>4.443249</td>\n",
       "      <td>19241.058300</td>\n",
       "      <td>4330.402888</td>\n",
       "    </tr>\n",
       "    <tr>\n",
       "      <th>4</th>\n",
       "      <td>2017-08-17 08:00:00</td>\n",
       "      <td>4333.32</td>\n",
       "      <td>4377.85</td>\n",
       "      <td>4333.32</td>\n",
       "      <td>4360.69</td>\n",
       "      <td>0.972807</td>\n",
       "      <td>4239.503586</td>\n",
       "      <td>4358.010978</td>\n",
       "    </tr>\n",
       "  </tbody>\n",
       "</table>\n",
       "</div>"
      ]
     },
     "execution_count": 110,
     "metadata": {},
     "output_type": "execute_result"
    }
   ],
   "execution_count": 110
  },
  {
   "metadata": {
    "ExecuteTime": {
     "end_time": "2024-05-24T06:48:32.759468Z",
     "start_time": "2024-05-24T06:48:32.744156Z"
    }
   },
   "cell_type": "code",
   "source": [
    "# numeric_cols = ['Open', 'High', 'Low', 'Close', 'Adj Close', 'Volume']\n",
    "numeric_cols = ['Open', 'High', 'Low', 'Close', 'Volume (BTC)', 'Volume (Currency)', 'Weighted Price']\n",
    "btcDF[numeric_cols] = btcDF[numeric_cols].fillna(btcDF[numeric_cols].mean())\n",
    "scaler = MinMaxScaler(feature_range=(0, 1))\n",
    "scaled_data = scaler.fit_transform(btcDF[numeric_cols])\n",
    "# scaled_data = scaler.fit_transform(btcDF)"
   ],
   "id": "e497ba7ca6b7ba6",
   "outputs": [],
   "execution_count": 111
  },
  {
   "metadata": {
    "ExecuteTime": {
     "end_time": "2024-05-24T06:48:32.763596Z",
     "start_time": "2024-05-24T06:48:32.760475Z"
    }
   },
   "cell_type": "code",
   "source": [
    "# Функция для создания набора данных\n",
    "def create_dataset(data, n_steps=1):\n",
    "    X, y = [], []\n",
    "    for i in range(len(data) - n_steps):\n",
    "        X.append(data[i:i + n_steps, :])\n",
    "        y.append(data[i + n_steps, 3])  # Используем 'Close' (индекс 3) как целевой признак\n",
    "    return np.array(X), np.array(y)"
   ],
   "id": "983fd5a9d0e37d7d",
   "outputs": [],
   "execution_count": 112
  },
  {
   "metadata": {
    "ExecuteTime": {
     "end_time": "2024-05-24T06:48:32.810477Z",
     "start_time": "2024-05-24T06:48:32.765063Z"
    }
   },
   "cell_type": "code",
   "source": [
    "# Создание набора данных\n",
    "n_steps = 3  # Количество временных шагов\n",
    "X, y = create_dataset(scaled_data, n_steps)\n",
    "X = X.reshape((X.shape[0], X.shape[1], X.shape[2]))  # Преобразование для LSTM"
   ],
   "id": "e7cf0940d1cc3844",
   "outputs": [],
   "execution_count": 113
  },
  {
   "metadata": {
    "ExecuteTime": {
     "end_time": "2024-05-24T06:48:32.814735Z",
     "start_time": "2024-05-24T06:48:32.811729Z"
    }
   },
   "cell_type": "code",
   "source": [
    "# Разделение данных на обучающую и тестовую выборки\n",
    "train_size = int(len(X) * 0.67)\n",
    "test_size = len(X) - train_size\n",
    "train_X, test_X = X[:train_size], X[train_size:]\n",
    "train_y, test_y = y[:train_size], y[train_size:]"
   ],
   "id": "ba3555f1ed0b563a",
   "outputs": [],
   "execution_count": 114
  },
  {
   "metadata": {
    "ExecuteTime": {
     "end_time": "2024-05-24T06:48:32.838341Z",
     "start_time": "2024-05-24T06:48:32.815920Z"
    }
   },
   "cell_type": "code",
   "source": [
    "# Определение и компиляция модели LSTM\n",
    "model = Sequential()\n",
    "model.add(Input(shape=(n_steps, X.shape[2])))  # Указываем форму входных данных через Input\n",
    "model.add(LSTM(50))\n",
    "model.add(Dense(1))\n",
    "model.compile(loss='mean_squared_error', optimizer='adam')"
   ],
   "id": "913f1179b34dc819",
   "outputs": [],
   "execution_count": 115
  },
  {
   "metadata": {
    "ExecuteTime": {
     "end_time": "2024-05-24T06:50:06.945909Z",
     "start_time": "2024-05-24T06:48:32.839519Z"
    }
   },
   "cell_type": "code",
   "source": [
    "# Обучение модели\n",
    "history = model.fit(train_X, train_y, epochs=50, batch_size=72, validation_data=(test_X, test_y), verbose=2, shuffle=False)\n"
   ],
   "id": "28f7b4250a725a32",
   "outputs": [
    {
     "name": "stdout",
     "output_type": "stream",
     "text": [
      "Epoch 1/50\n",
      "534/534 - 3s - 6ms/step - loss: 2.0848e-04 - val_loss: 0.0027\n",
      "Epoch 2/50\n",
      "534/534 - 2s - 4ms/step - loss: 2.1377e-04 - val_loss: 0.0017\n",
      "Epoch 3/50\n",
      "534/534 - 2s - 4ms/step - loss: 1.0791e-04 - val_loss: 5.1043e-04\n",
      "Epoch 4/50\n",
      "534/534 - 2s - 4ms/step - loss: 7.7581e-05 - val_loss: 2.7077e-04\n",
      "Epoch 5/50\n",
      "534/534 - 2s - 3ms/step - loss: 7.8135e-05 - val_loss: 2.4026e-04\n",
      "Epoch 6/50\n",
      "534/534 - 2s - 4ms/step - loss: 7.8932e-05 - val_loss: 2.3742e-04\n",
      "Epoch 7/50\n",
      "534/534 - 2s - 4ms/step - loss: 7.8091e-05 - val_loss: 2.2612e-04\n",
      "Epoch 8/50\n",
      "534/534 - 2s - 4ms/step - loss: 7.5984e-05 - val_loss: 2.0337e-04\n",
      "Epoch 9/50\n",
      "534/534 - 2s - 3ms/step - loss: 7.3319e-05 - val_loss: 1.7249e-04\n",
      "Epoch 10/50\n",
      "534/534 - 2s - 4ms/step - loss: 6.9441e-05 - val_loss: 1.4155e-04\n",
      "Epoch 11/50\n",
      "534/534 - 2s - 4ms/step - loss: 6.6824e-05 - val_loss: 1.1403e-04\n",
      "Epoch 12/50\n",
      "534/534 - 2s - 4ms/step - loss: 6.3472e-05 - val_loss: 9.0972e-05\n",
      "Epoch 13/50\n",
      "534/534 - 2s - 4ms/step - loss: 6.0195e-05 - val_loss: 7.0571e-05\n",
      "Epoch 14/50\n",
      "534/534 - 2s - 3ms/step - loss: 5.5870e-05 - val_loss: 5.5610e-05\n",
      "Epoch 15/50\n",
      "534/534 - 2s - 3ms/step - loss: 5.2179e-05 - val_loss: 4.7291e-05\n",
      "Epoch 16/50\n",
      "534/534 - 2s - 3ms/step - loss: 5.0089e-05 - val_loss: 4.7754e-05\n",
      "Epoch 17/50\n",
      "534/534 - 2s - 4ms/step - loss: 5.0417e-05 - val_loss: 4.9703e-05\n",
      "Epoch 18/50\n",
      "534/534 - 2s - 3ms/step - loss: 5.1481e-05 - val_loss: 4.7979e-05\n",
      "Epoch 19/50\n",
      "534/534 - 2s - 4ms/step - loss: 5.0591e-05 - val_loss: 4.2699e-05\n",
      "Epoch 20/50\n",
      "534/534 - 2s - 3ms/step - loss: 4.8947e-05 - val_loss: 4.1397e-05\n",
      "Epoch 21/50\n",
      "534/534 - 2s - 3ms/step - loss: 4.7844e-05 - val_loss: 3.9798e-05\n",
      "Epoch 22/50\n",
      "534/534 - 2s - 3ms/step - loss: 4.7335e-05 - val_loss: 4.0509e-05\n",
      "Epoch 23/50\n",
      "534/534 - 2s - 3ms/step - loss: 4.7506e-05 - val_loss: 4.0317e-05\n",
      "Epoch 24/50\n",
      "534/534 - 2s - 3ms/step - loss: 4.6406e-05 - val_loss: 3.7438e-05\n",
      "Epoch 25/50\n",
      "534/534 - 2s - 4ms/step - loss: 4.5150e-05 - val_loss: 3.7314e-05\n",
      "Epoch 26/50\n",
      "534/534 - 2s - 3ms/step - loss: 4.4445e-05 - val_loss: 3.6480e-05\n",
      "Epoch 27/50\n",
      "534/534 - 2s - 4ms/step - loss: 4.3860e-05 - val_loss: 3.6636e-05\n",
      "Epoch 28/50\n",
      "534/534 - 2s - 3ms/step - loss: 4.3399e-05 - val_loss: 3.5323e-05\n",
      "Epoch 29/50\n",
      "534/534 - 2s - 3ms/step - loss: 4.2820e-05 - val_loss: 3.5274e-05\n",
      "Epoch 30/50\n",
      "534/534 - 2s - 3ms/step - loss: 4.2241e-05 - val_loss: 3.4101e-05\n",
      "Epoch 31/50\n",
      "534/534 - 2s - 3ms/step - loss: 4.0861e-05 - val_loss: 3.2825e-05\n",
      "Epoch 32/50\n",
      "534/534 - 2s - 4ms/step - loss: 4.0125e-05 - val_loss: 3.4356e-05\n",
      "Epoch 33/50\n",
      "534/534 - 2s - 4ms/step - loss: 3.9345e-05 - val_loss: 3.2923e-05\n",
      "Epoch 34/50\n",
      "534/534 - 2s - 3ms/step - loss: 3.8271e-05 - val_loss: 3.3884e-05\n",
      "Epoch 35/50\n",
      "534/534 - 1s - 3ms/step - loss: 3.7782e-05 - val_loss: 3.3761e-05\n",
      "Epoch 36/50\n",
      "534/534 - 2s - 3ms/step - loss: 3.7462e-05 - val_loss: 3.4045e-05\n",
      "Epoch 37/50\n",
      "534/534 - 2s - 3ms/step - loss: 3.7142e-05 - val_loss: 3.2898e-05\n",
      "Epoch 38/50\n",
      "534/534 - 2s - 4ms/step - loss: 3.5998e-05 - val_loss: 3.1702e-05\n",
      "Epoch 39/50\n",
      "534/534 - 2s - 4ms/step - loss: 3.5210e-05 - val_loss: 3.2905e-05\n",
      "Epoch 40/50\n",
      "534/534 - 2s - 4ms/step - loss: 3.4667e-05 - val_loss: 3.2969e-05\n",
      "Epoch 41/50\n",
      "534/534 - 2s - 4ms/step - loss: 3.4514e-05 - val_loss: 3.3563e-05\n",
      "Epoch 42/50\n",
      "534/534 - 2s - 4ms/step - loss: 3.4491e-05 - val_loss: 3.2843e-05\n",
      "Epoch 43/50\n",
      "534/534 - 2s - 4ms/step - loss: 3.3987e-05 - val_loss: 3.0789e-05\n",
      "Epoch 44/50\n",
      "534/534 - 2s - 4ms/step - loss: 3.2861e-05 - val_loss: 3.0504e-05\n",
      "Epoch 45/50\n",
      "534/534 - 2s - 3ms/step - loss: 3.2474e-05 - val_loss: 3.2004e-05\n",
      "Epoch 46/50\n",
      "534/534 - 2s - 3ms/step - loss: 3.2442e-05 - val_loss: 3.2013e-05\n",
      "Epoch 47/50\n",
      "534/534 - 2s - 4ms/step - loss: 3.2306e-05 - val_loss: 3.1110e-05\n",
      "Epoch 48/50\n",
      "534/534 - 2s - 3ms/step - loss: 3.1753e-05 - val_loss: 3.0321e-05\n",
      "Epoch 49/50\n",
      "534/534 - 2s - 3ms/step - loss: 3.1226e-05 - val_loss: 3.0277e-05\n",
      "Epoch 50/50\n",
      "534/534 - 2s - 4ms/step - loss: 3.0806e-05 - val_loss: 3.0923e-05\n"
     ]
    }
   ],
   "execution_count": 116
  },
  {
   "metadata": {
    "ExecuteTime": {
     "end_time": "2024-05-24T06:50:06.976510Z",
     "start_time": "2024-05-24T06:50:06.950841Z"
    }
   },
   "cell_type": "code",
   "source": [
    "# Сохранение модели\n",
    "model.save('lstm_bitcoin_model.keras')"
   ],
   "id": "60849f77ef1f780d",
   "outputs": [],
   "execution_count": 117
  },
  {
   "metadata": {
    "ExecuteTime": {
     "end_time": "2024-05-24T06:50:07.949938Z",
     "start_time": "2024-05-24T06:50:06.978274Z"
    }
   },
   "cell_type": "code",
   "source": [
    "# Прогнозирование\n",
    "yhat = model.predict(test_X)\n",
    "test_X = test_X.reshape((test_X.shape[0], test_X.shape[1] * test_X.shape[2]))\n"
   ],
   "id": "a3834a34144c2dd6",
   "outputs": [
    {
     "name": "stdout",
     "output_type": "stream",
     "text": [
      "\u001B[1m591/591\u001B[0m \u001B[32m━━━━━━━━━━━━━━━━━━━━\u001B[0m\u001B[37m\u001B[0m \u001B[1m1s\u001B[0m 1ms/step\n"
     ]
    }
   ],
   "execution_count": 118
  },
  {
   "metadata": {
    "ExecuteTime": {
     "end_time": "2024-05-24T06:50:07.955491Z",
     "start_time": "2024-05-24T06:50:07.950745Z"
    }
   },
   "cell_type": "code",
   "source": [
    "# Инверсия масштабирования\n",
    "inv_yhat = np.concatenate((yhat, test_X[:, -6:]), axis=1)  # -6, т.к. у нас 7 числовых столбцов всего\n",
    "inv_yhat = scaler.inverse_transform(inv_yhat)\n",
    "inv_yhat = inv_yhat[:, 3]  # Используем 'Close' (индекс 3) после инверсии"
   ],
   "id": "453031682a71532c",
   "outputs": [],
   "execution_count": 119
  },
  {
   "metadata": {
    "ExecuteTime": {
     "end_time": "2024-05-24T06:50:07.960439Z",
     "start_time": "2024-05-24T06:50:07.956584Z"
    }
   },
   "cell_type": "code",
   "source": [
    "\n",
    "test_y = test_y.reshape((len(test_y), 1))\n",
    "inv_y = np.concatenate((test_y, test_X[:, -6:]), axis=1)\n",
    "inv_y = scaler.inverse_transform(inv_y)\n",
    "inv_y = inv_y[:, 3]  # Используем 'Close' (индекс 3) после инверсии\n"
   ],
   "id": "6a3478b2d3590972",
   "outputs": [],
   "execution_count": 120
  },
  {
   "metadata": {
    "ExecuteTime": {
     "end_time": "2024-05-24T06:50:07.965930Z",
     "start_time": "2024-05-24T06:50:07.961676Z"
    }
   },
   "cell_type": "code",
   "source": [
    "# Расчет и вывод ошибок\n",
    "mse = mean_squared_error(inv_y, inv_yhat)\n",
    "rmse = sqrt(mse)\n",
    "print(f'Test MSE: {mse:.3f}')\n",
    "print(f'Test RMSE: {rmse:.3f}')"
   ],
   "id": "f1dd0e07804d514e",
   "outputs": [
    {
     "name": "stdout",
     "output_type": "stream",
     "text": [
      "Test MSE: 0.000\n",
      "Test RMSE: 0.000\n"
     ]
    }
   ],
   "execution_count": 121
  },
  {
   "metadata": {
    "ExecuteTime": {
     "end_time": "2024-05-24T06:50:08.098713Z",
     "start_time": "2024-05-24T06:50:07.966970Z"
    }
   },
   "cell_type": "code",
   "source": [
    "# Визуализация результатов\n",
    "plt.title('Real vs Predicted Close Price')\n",
    "plt.ylabel('Price ($)')\n",
    "plt.plot(inv_y, label='Real', color='y')\n",
    "plt.plot(inv_yhat, label='Predicted', color='r')\n",
    "plt.legend()\n",
    "plt.show()"
   ],
   "id": "f7d1ba7aba4e52b7",
   "outputs": [
    {
     "data": {
      "text/plain": [
       "<Figure size 640x480 with 1 Axes>"
      ],
      "image/png": "[encoded data removed]"
     },
     "metadata": {},
     "output_type": "display_data"
    }
   ],
   "execution_count": 122
  },
  {
   "metadata": {
    "ExecuteTime": {
     "end_time": "2024-05-24T06:50:08.262583Z",
     "start_time": "2024-05-24T06:50:08.100069Z"
    }
   },
   "cell_type": "code",
   "source": [
    "from keras.src.saving import load_model\n",
    "\n",
    "# Загрузка модели\n",
    "model = load_model('lstm_bitcoin_model.keras')\n",
    "\n",
    "def prepare_data_for_prediction(df, n_steps, scaler):\n",
    "    data = df[['Open', 'High', 'Low', 'Close', 'Volume (BTC)', 'Volume (Currency)', 'Weighted Price']].values\n",
    "    scaled_data = scaler.transform(data)\n",
    "    \n",
    "    def create_input(data, n_steps=1):\n",
    "        X = []\n",
    "        for i in range(len(data) - n_steps + 1):\n",
    "            a = data[i:i + n_steps, :]\n",
    "            X.append(a)\n",
    "        return np.array(X)\n",
    "\n",
    "    X = create_input(scaled_data, n_steps)\n",
    "    X = X.reshape((X.shape[0], X.shape[1], X.shape[2]))\n",
    "    \n",
    "    return X\n",
    "\n",
    "def predict_price_on_date(date_str):\n",
    "    # Преобразуем дату в формат datetime\n",
    "    target_date = pd.to_datetime(date_str)\n",
    "    \n",
    "    # Получаем последние n_steps дней до текущей даты\n",
    "    end_idx = len(btcDF) - 1\n",
    "    start_idx = end_idx - n_steps + 1\n",
    "    \n",
    "    if start_idx < 0:\n",
    "        raise ValueError(f\"Недостаточно данных для прогноза на дату {date_str}.\")\n",
    "    \n",
    "    input_data = btcDF.iloc[start_idx:end_idx + 1]\n",
    "    X_input = prepare_data_for_prediction(input_data, n_steps, scaler)\n",
    "    \n",
    "    # Предсказание\n",
    "    yhat = model.predict(X_input[-1].reshape(1, n_steps, X_input.shape[2]))\n",
    "    \n",
    "    # Создание массива с нулями для инверсии масштабирования\n",
    "    zeros = np.zeros((yhat.shape[0], X_input.shape[2] - 1))\n",
    "    yhat_combined = np.concatenate((zeros, yhat), axis=1)\n",
    "    \n",
    "    # Инверсия масштабирования только для предсказанных значений\n",
    "    inv_yhat = scaler.inverse_transform(yhat_combined)\n",
    "    predicted_price = inv_yhat[:, 3]  # Используем 'Close' (индекс 3) после инверсии\n",
    "    \n",
    "    return predicted_price[0]\n",
    "\n",
    "# Пример использования функции\n",
    "date_str = '2024-05-23'\n",
    "predicted_price = predict_price_on_date(date_str)\n",
    "print(f'Предсказанная цена биткоина на дату {date_str}: ${predicted_price:.2f}')\n"
   ],
   "id": "2d47a7dede14f3cc",
   "outputs": [
    {
     "name": "stdout",
     "output_type": "stream",
     "text": [
      "\u001B[1m1/1\u001B[0m \u001B[32m━━━━━━━━━━━━━━━━━━━━\u001B[0m\u001B[37m\u001B[0m \u001B[1m0s\u001B[0m 88ms/step\n",
      "Предсказанная цена биткоина на дату 2024-05-23: $2919.00\n"
     ]
    },
    {
     "name": "stderr",
     "output_type": "stream",
     "text": [
      "/home/nikonych/PycharmProjects/crypto_prediction/.venv/lib/python3.11/site-packages/sklearn/base.py:493: UserWarning: X does not have valid feature names, but MinMaxScaler was fitted with feature names\n",
      "  warnings.warn(\n"
     ]
    }
   ],
   "execution_count": 123
  },
  {
   "metadata": {
    "ExecuteTime": {
     "end_time": "2024-05-24T06:50:08.265690Z",
     "start_time": "2024-05-24T06:50:08.263517Z"
    }
   },
   "cell_type": "code",
   "source": "",
   "id": "ca764c20ca93467d",
   "outputs": [],
   "execution_count": 123
  }
 ],
 "metadata": {
  "kernelspec": {
   "display_name": "Python 3",
   "language": "python",
   "name": "python3"
  },
  "language_info": {
   "codemirror_mode": {
    "name": "ipython",
    "version": 2
   },
   "file_extension": ".py",
   "mimetype": "text/x-python",
   "name": "python",
   "nbconvert_exporter": "python",
   "pygments_lexer": "ipython2",
   "version": "2.7.6"
  }
 },
 "nbformat": 4,
 "nbformat_minor": 5
}
